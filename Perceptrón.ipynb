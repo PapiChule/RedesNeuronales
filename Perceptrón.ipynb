{
  "nbformat": 4,
  "nbformat_minor": 0,
  "metadata": {
    "colab": {
      "provenance": [],
      "authorship_tag": "ABX9TyP1rzV2Tois8w++wPlh+Ach",
      "include_colab_link": true
    },
    "kernelspec": {
      "name": "python3",
      "display_name": "Python 3"
    },
    "language_info": {
      "name": "python"
    }
  },
  "cells": [
    {
      "cell_type": "markdown",
      "metadata": {
        "id": "view-in-github",
        "colab_type": "text"
      },
      "source": [
        "<a href=\"https://colab.research.google.com/github/PapiChule/RedesNeuronales/blob/main/Perceptr%C3%B3n.ipynb\" target=\"_parent\"><img src=\"https://colab.research.google.com/assets/colab-badge.svg\" alt=\"Open In Colab\"/></a>"
      ]
    },
    {
      "cell_type": "code",
      "execution_count": 10,
      "metadata": {
        "id": "YAi7fe13XEq0",
        "colab": {
          "base_uri": "https://localhost:8080/"
        },
        "outputId": "bededa81-e401-4592-e854-caf0d5715e40"
      },
      "outputs": [
        {
          "output_type": "stream",
          "name": "stdout",
          "text": [
            "Overwriting perceptron.c\n"
          ]
        }
      ],
      "source": [
        "%%writefile perceptron.c\n",
        "\n",
        "#include <stdio.h>\n",
        "#include <stdlib.h>\n",
        "\n",
        "#define TRUE 1\n",
        "#define FALSE 0\n",
        "\n",
        "float *calculoPatrones(int patrones[][2], float pesos[], float bias);\n",
        "int *evaluarPatrones(float *total);\n",
        "int *calcularErrores(int *valores, int *salida);\n",
        "\n",
        "int main(void){\n",
        "  \n",
        "  // Crear patrones\n",
        "  int patrones[4][2] = {{0,0}, {0,1}, {1,0}, {1,1}};\n",
        "\n",
        "  // Crear valores de salida deseados\n",
        "  int salida[4] = {0, 0, 0, 1};\n",
        "\n",
        "  // Definir pesos e inicializar vector de pesos\n",
        "  float pesos[2] = {1.0, 0.0};\n",
        "  float bias = -0.5;\n",
        "\n",
        "  // Calcular patrones\n",
        "  float *total = calculoPatrones(patrones, pesos, bias); \n",
        "\n",
        "  // Evaluar función\n",
        "  int *valores = evaluarPatrones(total);\n",
        "\n",
        "  // Evaluar función y retornar errores\n",
        "  int *errores = calcularErrores(valores, salida);\n",
        "\n",
        "}\n",
        "\n",
        "float *calculoPatrones(int patrones[][2], float *pesos, float bias) {\n",
        "  \n",
        "  int i, j;\n",
        "  float *suma = (float *)malloc(sizeof(float) * 4);\n",
        "\n",
        "  for(i = 0; i < 4; i++){\n",
        "    for(j = 0; j < 2; j++){\n",
        "      // Calcular suma total de patrones ponderados con los pesos y bias\n",
        "      suma[i] += pesos[j] * patrones[i][j];\n",
        "    }\n",
        "    suma[i] += bias;\n",
        "  }\n",
        "\n",
        "  return suma;\n",
        "\n",
        "}\n",
        "\n",
        "int *evaluarPatrones(float *total) {\n",
        "\n",
        "  int i;\n",
        "  int *evaluados = (int *)malloc(sizeof(int) * 4);\n",
        "\n",
        "  for(i = 0; i < 4; i++){\n",
        "    // Evaluamos funcion H(x)\n",
        "    if(total[i] < 0){\n",
        "      evaluados[i] = FALSE;\n",
        "    }else{\n",
        "      evaluados[i] = TRUE;\n",
        "    }\n",
        "  }\n",
        "\n",
        "  return evaluados;\n",
        "\n",
        "}\n",
        "\n",
        "int *calcularErrores(int *total, int *salida) {\n",
        "\n",
        "  int i, err = 0;\n",
        "  int *errores = (int *)malloc(sizeof(int) * 4);\n",
        "\n",
        "  for(i = 0; i < 4; i++){\n",
        "    errores[i] = salida[i] - total[i];\n",
        "    if(errores[i] != 0) err++;\n",
        "    printf(\"%d\\n\", errores[i]);\n",
        "  }\n",
        "\n",
        "  printf(\"Errores: %d\", err);\n",
        "\n",
        "  return errores;\n",
        "\n",
        "}"
      ]
    },
    {
      "cell_type": "code",
      "source": [
        "!ls -l"
      ],
      "metadata": {
        "colab": {
          "base_uri": "https://localhost:8080/"
        },
        "id": "AhB4zrFHwsjm",
        "outputId": "2ab279bd-26e3-470c-f625-4651b39ff507"
      },
      "execution_count": 11,
      "outputs": [
        {
          "output_type": "stream",
          "name": "stdout",
          "text": [
            "total 28\n",
            "-rwxr-xr-x 1 root root 16920 Apr  5 00:21 output\n",
            "-rw-r--r-- 1 root root  1677 Apr  5 00:22 perceptron.c\n",
            "drwxr-xr-x 1 root root  4096 Apr  3 13:38 sample_data\n"
          ]
        }
      ]
    },
    {
      "cell_type": "code",
      "source": [
        "%%shell\n",
        "\n",
        "gcc perceptron.c -o output\n",
        "./output"
      ],
      "metadata": {
        "colab": {
          "base_uri": "https://localhost:8080/"
        },
        "id": "XmEa08kjwvYQ",
        "outputId": "495ccf09-fd0c-4586-dd80-7e99e6bf8c86"
      },
      "execution_count": 12,
      "outputs": [
        {
          "output_type": "stream",
          "name": "stdout",
          "text": [
            "0\n",
            "0\n",
            "-1\n",
            "0\n",
            "Errores: 1"
          ]
        },
        {
          "output_type": "execute_result",
          "data": {
            "text/plain": []
          },
          "metadata": {},
          "execution_count": 12
        }
      ]
    }
  ]
}